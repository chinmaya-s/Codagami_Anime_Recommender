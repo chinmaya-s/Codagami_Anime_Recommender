{
  "cells": [
    {
      "cell_type": "code",
      "execution_count": 1,
      "metadata": {
        "id": "qV5at3Kojf4b"
      },
      "outputs": [],
      "source": [
        "import pandas as pd\n",
        "import numpy as np\n",
        "import json\n",
        "import itertools\n",
        "\n",
        "\n",
        "def load_recommender_data(path_in_str):\n",
        "    json_file = open(path_in_str)\n",
        "    data = json.load(json_file)\n",
        "    df = pd.DataFrame.from_dict(data, orient='index')\n",
        "    df = df[df['error'].isna()]\n",
        "\n",
        "    # %%\n",
        "    df['user'] = df.index\n",
        "    df.reset_index(inplace=True)\n",
        "    df['user_id'] = df.index\n",
        "\n",
        "    # %%\n",
        "    def melt_series(s):\n",
        "        lengths = s.str.len().values\n",
        "        flat = [i for i in itertools.chain.from_iterable(s.values.tolist())]\n",
        "        idx = np.repeat(s.index.values, lengths)\n",
        "        return pd.Series(flat, idx, name=s.name)\n",
        "\n",
        "\n",
        "    user_df = melt_series(df.data).to_frame().join(df.drop('data', 1))\n",
        "\n",
        "    # %%\n",
        "    user_df['anime_id'] = user_df['data'].apply(lambda x : x['node']['id'])\n",
        "    user_df['status'] = user_df['data'].apply(lambda x : x['list_status']['status'])\n",
        "    user_df['score'] = user_df['data'].apply(lambda x : x['list_status']['score'])\n",
        "    user_df['is_rewatching'] = user_df['data'].apply(lambda x : x['list_status']['is_rewatching'])\n",
        "\n",
        "\n",
        "    # %%\n",
        "    user_df = user_df[['user', 'user_id', 'anime_id', 'status', 'score', 'is_rewatching']]\n",
        "    user_df = user_df.rename({'score': 'user_score'}, axis=1)\n",
        "\n",
        "    # %%\n",
        "    path_in_str = '/content/anime_list_final_231.json'\n",
        "    json_file = open(path_in_str)\n",
        "    data = json.load(json_file)\n",
        "    anime_df_raw = pd.DataFrame.from_dict(data, orient='index')\n",
        "    anime_df_raw = anime_df_raw[anime_df_raw['error'] != 'not_found']\n",
        "    anime_df = anime_df_raw[['id', 'title', 'mean', 'genres', 'statistics', 'num_episodes']]\n",
        "    anime_df = anime_df.dropna()\n",
        "\n",
        "    # %%\n",
        "    anime_df['genres_name'] = anime_df['genres'].apply(lambda x : [a['name'] for a in x])\n",
        "    anime_df['genres_id'] = anime_df['genres'].apply(lambda x : [a['id'] for a in x])\n",
        "\n",
        "    # %%\n",
        "    anime_df['watching'] = anime_df['statistics'].apply(lambda x : x['status']['watching'])\n",
        "    anime_df['num_list_users'] = anime_df['statistics'].apply(lambda x : x['num_list_users'])\n",
        "    anime_df['completed'] = anime_df['statistics'].apply(lambda x : x['status']['completed'])\n",
        "    anime_df['plan_to_watch'] = anime_df['statistics'].apply(lambda x : x['status']['plan_to_watch'])\n",
        "    anime_df['dropped'] = anime_df['statistics'].apply(lambda x : x['status']['dropped'])\n",
        "    anime_df['on_hold'] = anime_df['statistics'].apply(lambda x : x['status']['on_hold'])\n",
        "\n",
        "    # %%\n",
        "    anime_df.drop(['genres', 'statistics'], axis=1, inplace=True)\n",
        "\n",
        "    # %%\n",
        "    anime_df.rename({'id': 'anime_id'}, axis=1, inplace=True)\n",
        "\n",
        "\n",
        "\n",
        "    # %%\n",
        "    df_merge_raw = pd.merge(anime_df, user_df, on = 'anime_id')\n",
        "\n",
        "    # %%\n",
        "    df_merge = df_merge_raw[['anime_id', 'title', 'genres_name', 'num_episodes', 'mean', 'num_list_users', 'user_id', 'user_score']]\n",
        "\n",
        "    # %%\n",
        "    df_merge.rename({'title': 'name', 'genres_name': 'genre', 'num_episodes': 'episodes', 'mean': 'rating_x', 'num_list_users': 'members', 'user_score': 'rating_y'}, axis=1, inplace= True)\n",
        "\n",
        "    # %%\n",
        "    df_merge['rating_x'] = df_merge['rating_x'].astype(int)\n",
        "    df_merge['rating_x'] = df_merge['rating_x'].round()\n",
        "\n",
        "    return df_merge, anime_df, user_df\n",
        "\n",
        "\n",
        "def main():\n",
        "    path_in_str = '/content/user_data1.0.json'\n",
        "    load_recommender_data(path_in_str)\n"
      ]
    },
    {
      "cell_type": "code",
      "execution_count": 2,
      "metadata": {
        "colab": {
          "base_uri": "https://localhost:8080/",
          "height": 367
        },
        "id": "7BH1N1CPVnll",
        "outputId": "c371a231-46a0-4f8f-9aea-b6e2cce704ea"
      },
      "outputs": [
        {
          "ename": "FileNotFoundError",
          "evalue": "ignored",
          "output_type": "error",
          "traceback": [
            "\u001b[0;31m---------------------------------------------------------------------------\u001b[0m",
            "\u001b[0;31mFileNotFoundError\u001b[0m                         Traceback (most recent call last)",
            "\u001b[0;32m<ipython-input-2-7d746ca8b8e0>\u001b[0m in \u001b[0;36m<module>\u001b[0;34m()\u001b[0m\n\u001b[1;32m      1\u001b[0m \u001b[0;31m# from load_recommender_data import load_recommender_data\u001b[0m\u001b[0;34m\u001b[0m\u001b[0;34m\u001b[0m\u001b[0;34m\u001b[0m\u001b[0m\n\u001b[1;32m      2\u001b[0m \u001b[0;32mimport\u001b[0m \u001b[0mtorch\u001b[0m\u001b[0;34m\u001b[0m\u001b[0;34m\u001b[0m\u001b[0m\n\u001b[0;32m----> 3\u001b[0;31m \u001b[0mdf_merge\u001b[0m\u001b[0;34m,\u001b[0m \u001b[0manime_df\u001b[0m\u001b[0;34m,\u001b[0m \u001b[0muser_df\u001b[0m \u001b[0;34m=\u001b[0m  \u001b[0mload_recommender_data\u001b[0m\u001b[0;34m(\u001b[0m\u001b[0;34m'user_data1.0.json'\u001b[0m\u001b[0;34m)\u001b[0m\u001b[0;34m\u001b[0m\u001b[0;34m\u001b[0m\u001b[0m\n\u001b[0m\u001b[1;32m      4\u001b[0m \u001b[0mdf_merge\u001b[0m\u001b[0;34m.\u001b[0m\u001b[0mhead\u001b[0m\u001b[0;34m(\u001b[0m\u001b[0;34m)\u001b[0m\u001b[0;34m\u001b[0m\u001b[0;34m\u001b[0m\u001b[0m\n\u001b[1;32m      5\u001b[0m \u001b[0msample\u001b[0m \u001b[0;34m=\u001b[0m \u001b[0mdf_merge\u001b[0m\u001b[0;34m.\u001b[0m\u001b[0msample\u001b[0m\u001b[0;34m(\u001b[0m\u001b[0mn\u001b[0m\u001b[0;34m=\u001b[0m\u001b[0;36m5000\u001b[0m\u001b[0;34m)\u001b[0m\u001b[0;34m\u001b[0m\u001b[0;34m\u001b[0m\u001b[0m\n",
            "\u001b[0;32m<ipython-input-1-7d9f8400cfe9>\u001b[0m in \u001b[0;36mload_recommender_data\u001b[0;34m(path_in_str)\u001b[0m\n\u001b[1;32m      6\u001b[0m \u001b[0;34m\u001b[0m\u001b[0m\n\u001b[1;32m      7\u001b[0m \u001b[0;32mdef\u001b[0m \u001b[0mload_recommender_data\u001b[0m\u001b[0;34m(\u001b[0m\u001b[0mpath_in_str\u001b[0m\u001b[0;34m)\u001b[0m\u001b[0;34m:\u001b[0m\u001b[0;34m\u001b[0m\u001b[0;34m\u001b[0m\u001b[0m\n\u001b[0;32m----> 8\u001b[0;31m     \u001b[0mjson_file\u001b[0m \u001b[0;34m=\u001b[0m \u001b[0mopen\u001b[0m\u001b[0;34m(\u001b[0m\u001b[0mpath_in_str\u001b[0m\u001b[0;34m)\u001b[0m\u001b[0;34m\u001b[0m\u001b[0;34m\u001b[0m\u001b[0m\n\u001b[0m\u001b[1;32m      9\u001b[0m     \u001b[0mdata\u001b[0m \u001b[0;34m=\u001b[0m \u001b[0mjson\u001b[0m\u001b[0;34m.\u001b[0m\u001b[0mload\u001b[0m\u001b[0;34m(\u001b[0m\u001b[0mjson_file\u001b[0m\u001b[0;34m)\u001b[0m\u001b[0;34m\u001b[0m\u001b[0;34m\u001b[0m\u001b[0m\n\u001b[1;32m     10\u001b[0m     \u001b[0mdf\u001b[0m \u001b[0;34m=\u001b[0m \u001b[0mpd\u001b[0m\u001b[0;34m.\u001b[0m\u001b[0mDataFrame\u001b[0m\u001b[0;34m.\u001b[0m\u001b[0mfrom_dict\u001b[0m\u001b[0;34m(\u001b[0m\u001b[0mdata\u001b[0m\u001b[0;34m,\u001b[0m \u001b[0morient\u001b[0m\u001b[0;34m=\u001b[0m\u001b[0;34m'index'\u001b[0m\u001b[0;34m)\u001b[0m\u001b[0;34m\u001b[0m\u001b[0;34m\u001b[0m\u001b[0m\n",
            "\u001b[0;31mFileNotFoundError\u001b[0m: [Errno 2] No such file or directory: 'user_data1.0.json'"
          ]
        }
      ],
      "source": [
        "# from load_recommender_data import load_recommender_data\n",
        "import torch\n",
        "df_merge, anime_df, user_df =  load_recommender_data('user_data1.0.json')\n",
        "df_merge.head()\n",
        "sample = df_merge.sample(n=5000)\n",
        "sample.shape"
      ]
    },
    {
      "cell_type": "code",
      "execution_count": null,
      "metadata": {
        "colab": {
          "base_uri": "https://localhost:8080/"
        },
        "id": "zU7_7QKxVnlm",
        "outputId": "a62b68bd-1e60-409d-9fde-071fbf9d4f63"
      },
      "outputs": [
        {
          "data": {
            "text/plain": [
              "anime_id    float64\n",
              "name         object\n",
              "genre        object\n",
              "episodes    float64\n",
              "rating_x      int64\n",
              "members       int64\n",
              "user_id       int64\n",
              "rating_y      int64\n",
              "dtype: object"
            ]
          },
          "execution_count": 6,
          "metadata": {},
          "output_type": "execute_result"
        }
      ],
      "source": [
        "sample.dtypes"
      ]
    },
    {
      "cell_type": "code",
      "execution_count": null,
      "metadata": {
        "colab": {
          "base_uri": "https://localhost:8080/",
          "height": 530
        },
        "id": "XDiwxVFxVnln",
        "outputId": "eca9c564-2aa2-42f4-b93c-42579b55b2d2"
      },
      "outputs": [
        {
          "data": {
            "text/html": [
              "<div>\n",
              "<style scoped>\n",
              "    .dataframe tbody tr th:only-of-type {\n",
              "        vertical-align: middle;\n",
              "    }\n",
              "\n",
              "    .dataframe tbody tr th {\n",
              "        vertical-align: top;\n",
              "    }\n",
              "\n",
              "    .dataframe thead th {\n",
              "        text-align: right;\n",
              "    }\n",
              "</style>\n",
              "<table border=\"1\" class=\"dataframe\">\n",
              "  <thead>\n",
              "    <tr style=\"text-align: right;\">\n",
              "      <th></th>\n",
              "      <th>anime_id</th>\n",
              "      <th>name</th>\n",
              "      <th>genre</th>\n",
              "      <th>episodes</th>\n",
              "      <th>rating_x</th>\n",
              "      <th>members</th>\n",
              "      <th>user_id</th>\n",
              "      <th>rating_y</th>\n",
              "    </tr>\n",
              "  </thead>\n",
              "  <tbody>\n",
              "    <tr>\n",
              "      <th>45316</th>\n",
              "      <td>38409.0</td>\n",
              "      <td>Cike Wu Liuqi</td>\n",
              "      <td>[Action, Comedy, Drama, Martial Arts, Mystery,...</td>\n",
              "      <td>10.0</td>\n",
              "      <td>7</td>\n",
              "      <td>45087</td>\n",
              "      <td>33</td>\n",
              "      <td>7</td>\n",
              "    </tr>\n",
              "    <tr>\n",
              "      <th>16464</th>\n",
              "      <td>34542.0</td>\n",
              "      <td>Inuyashiki</td>\n",
              "      <td>[Action, Drama, Psychological, Sci-Fi, Seinen]</td>\n",
              "      <td>11.0</td>\n",
              "      <td>7</td>\n",
              "      <td>520171</td>\n",
              "      <td>35</td>\n",
              "      <td>9</td>\n",
              "    </tr>\n",
              "    <tr>\n",
              "      <th>8253</th>\n",
              "      <td>12467.0</td>\n",
              "      <td>Nazo no Kanojo X</td>\n",
              "      <td>[Romance, School, Seinen]</td>\n",
              "      <td>13.0</td>\n",
              "      <td>7</td>\n",
              "      <td>245117</td>\n",
              "      <td>13</td>\n",
              "      <td>9</td>\n",
              "    </tr>\n",
              "    <tr>\n",
              "      <th>27341</th>\n",
              "      <td>2236.0</td>\n",
              "      <td>Toki wo Kakeru Shoujo</td>\n",
              "      <td>[Drama, Romance, School, Sci-Fi]</td>\n",
              "      <td>1.0</td>\n",
              "      <td>8</td>\n",
              "      <td>689355</td>\n",
              "      <td>86</td>\n",
              "      <td>0</td>\n",
              "    </tr>\n",
              "    <tr>\n",
              "      <th>4261</th>\n",
              "      <td>3603.0</td>\n",
              "      <td>JoJo no Kimyou na Bouken: Phantom Blood</td>\n",
              "      <td>[Action, Adventure, Horror, Shounen, Vampire]</td>\n",
              "      <td>1.0</td>\n",
              "      <td>7</td>\n",
              "      <td>56315</td>\n",
              "      <td>5</td>\n",
              "      <td>5</td>\n",
              "    </tr>\n",
              "  </tbody>\n",
              "</table>\n",
              "</div>"
            ],
            "text/plain": [
              "       anime_id                                     name  ... user_id  rating_y\n",
              "45316   38409.0                            Cike Wu Liuqi  ...      33         7\n",
              "16464   34542.0                               Inuyashiki  ...      35         9\n",
              "8253    12467.0                         Nazo no Kanojo X  ...      13         9\n",
              "27341    2236.0                    Toki wo Kakeru Shoujo  ...      86         0\n",
              "4261     3603.0  JoJo no Kimyou na Bouken: Phantom Blood  ...       5         5\n",
              "\n",
              "[5 rows x 8 columns]"
            ]
          },
          "execution_count": 7,
          "metadata": {},
          "output_type": "execute_result"
        }
      ],
      "source": [
        "sample.head()"
      ]
    },
    {
      "cell_type": "code",
      "execution_count": null,
      "metadata": {
        "colab": {
          "base_uri": "https://localhost:8080/"
        },
        "id": "53Z3Vm8rkaDM",
        "outputId": "a4915238-e2e5-4376-fd49-ed3856ed841c"
      },
      "outputs": [
        {
          "name": "stdout",
          "output_type": "stream",
          "text": [
            "Collecting surprise\n",
            "  Downloading surprise-0.1-py2.py3-none-any.whl (1.8 kB)\n",
            "Collecting scikit-surprise\n",
            "  Downloading scikit-surprise-1.1.1.tar.gz (11.8 MB)\n",
            "\u001b[K     |████████████████████████████████| 11.8 MB 3.7 MB/s \n",
            "\u001b[?25hRequirement already satisfied: joblib>=0.11 in /usr/local/lib/python3.7/dist-packages (from scikit-surprise->surprise) (1.1.0)\n",
            "Requirement already satisfied: numpy>=1.11.2 in /usr/local/lib/python3.7/dist-packages (from scikit-surprise->surprise) (1.19.5)\n",
            "Requirement already satisfied: scipy>=1.0.0 in /usr/local/lib/python3.7/dist-packages (from scikit-surprise->surprise) (1.4.1)\n",
            "Requirement already satisfied: six>=1.10.0 in /usr/local/lib/python3.7/dist-packages (from scikit-surprise->surprise) (1.15.0)\n",
            "Building wheels for collected packages: scikit-surprise\n",
            "  Building wheel for scikit-surprise (setup.py) ... \u001b[?25l\u001b[?25hdone\n",
            "  Created wheel for scikit-surprise: filename=scikit_surprise-1.1.1-cp37-cp37m-linux_x86_64.whl size=1619408 sha256=c8b4be441e83c0b41fabfe4f6cdfddb4796280396e4bb25f1ea729be1debfb7e\n",
            "  Stored in directory: /root/.cache/pip/wheels/76/44/74/b498c42be47b2406bd27994e16c5188e337c657025ab400c1c\n",
            "Successfully built scikit-surprise\n",
            "Installing collected packages: scikit-surprise, surprise\n",
            "Successfully installed scikit-surprise-1.1.1 surprise-0.1\n"
          ]
        }
      ],
      "source": [
        "!pip3 install surprise"
      ]
    },
    {
      "cell_type": "code",
      "execution_count": null,
      "metadata": {
        "id": "XnQBT6uVVnlo"
      },
      "outputs": [],
      "source": [
        "from scipy.sparse import csc_matrix\n",
        "from scipy.sparse.linalg import svds \n",
        "\n",
        "from surprise.model_selection import train_test_split\n",
        "from surprise.model_selection import GridSearchCV\n",
        "from surprise.model_selection import cross_validate\n",
        "\n",
        "from surprise.prediction_algorithms import KNNWithMeans, KNNBasic, KNNBaseline\n",
        "\n",
        "from surprise.prediction_algorithms import knns\n",
        "from surprise.prediction_algorithms import SVD\n",
        "\n",
        "from surprise.similarities import cosine, msd, pearson\n",
        "\n",
        "from surprise import accuracy \n",
        "from surprise import Reader\n",
        "from surprise import Dataset\n",
        "from surprise import dataset\n",
        "# from numba import jit, cuda \n",
        "# import numpy as np\n",
        "import cupy as np\n",
        "\n",
        "data = sample[['user_id', 'anime_id', 'rating_x']]\n",
        "reader = Reader(line_format='user item rating', sep='')\n",
        "anime_loaded_data = Dataset.load_from_df(data, reader)\n",
        "\n",
        "#train_test_split\n",
        "trainset, testset = train_test_split(anime_loaded_data, test_size=.2)"
      ]
    },
    {
      "cell_type": "code",
      "execution_count": null,
      "metadata": {
        "colab": {
          "base_uri": "https://localhost:8080/"
        },
        "id": "fBIwAeACVnlo",
        "outputId": "021cb59c-5046-4efa-e1e1-a50287ce4cfd"
      },
      "outputs": [
        {
          "data": {
            "text/plain": [
              "<surprise.prediction_algorithms.matrix_factorization.SVD at 0x7f587d53dc50>"
            ]
          },
          "execution_count": 10,
          "metadata": {},
          "output_type": "execute_result"
        }
      ],
      "source": [
        "svd = SVD()\n",
        "# svd = np.linalg.svd\n",
        "svd.fit(trainset)"
      ]
    },
    {
      "cell_type": "code",
      "execution_count": null,
      "metadata": {
        "colab": {
          "base_uri": "https://localhost:8080/"
        },
        "id": "3bR-hg01Vnlp",
        "outputId": "417adbd5-4d7e-4e75-e3cc-8fb0660ca7ab"
      },
      "outputs": [
        {
          "name": "stdout",
          "output_type": "stream",
          "text": [
            "RMSE: 2.1705\n"
          ]
        },
        {
          "data": {
            "text/plain": [
              "2.170483817032507"
            ]
          },
          "execution_count": 11,
          "metadata": {},
          "output_type": "execute_result"
        }
      ],
      "source": [
        "predictions = svd.test(testset) #\n",
        "accuracy.rmse(predictions)\n"
      ]
    },
    {
      "cell_type": "code",
      "execution_count": null,
      "metadata": {
        "colab": {
          "base_uri": "https://localhost:8080/"
        },
        "id": "2WD2Ne7qVnlp",
        "outputId": "285a88c7-1b82-40c8-c1b7-02eacb54656b"
      },
      "outputs": [
        {
          "data": {
            "text/plain": [
              "[Prediction(uid=61, iid=21995.0, r_ui=7.0, est=5, details={'was_impossible': False}),\n",
              " Prediction(uid=53, iid=10589.0, r_ui=7.0, est=5, details={'was_impossible': False}),\n",
              " Prediction(uid=1, iid=32615.0, r_ui=7.0, est=5, details={'was_impossible': False}),\n",
              " Prediction(uid=34, iid=14835.0, r_ui=7.0, est=5, details={'was_impossible': False}),\n",
              " Prediction(uid=68, iid=35135.0, r_ui=6.0, est=5, details={'was_impossible': False}),\n",
              " Prediction(uid=75, iid=34393.0, r_ui=4.0, est=5, details={'was_impossible': False}),\n",
              " Prediction(uid=91, iid=15609.0, r_ui=6.0, est=5, details={'was_impossible': False}),\n",
              " Prediction(uid=73, iid=48707.0, r_ui=7.0, est=5, details={'was_impossible': False}),\n",
              " Prediction(uid=13, iid=37492.0, r_ui=7.0, est=5, details={'was_impossible': False}),\n",
              " Prediction(uid=27, iid=7366.0, r_ui=6.0, est=5, details={'was_impossible': False})]"
            ]
          },
          "execution_count": 12,
          "metadata": {},
          "output_type": "execute_result"
        }
      ],
      "source": [
        "predictions[:10]\n"
      ]
    },
    {
      "cell_type": "code",
      "execution_count": null,
      "metadata": {
        "colab": {
          "base_uri": "https://localhost:8080/"
        },
        "id": "jMXoQAgYVnlp",
        "outputId": "fe9a1103-9806-474f-9404-6d64e3548853"
      },
      "outputs": [
        {
          "name": "stdout",
          "output_type": "stream",
          "text": [
            "Number of users: 94\n"
          ]
        }
      ],
      "source": [
        "print(\"Number of users:\", sample.user_id.nunique())\n"
      ]
    },
    {
      "cell_type": "code",
      "execution_count": null,
      "metadata": {
        "colab": {
          "base_uri": "https://localhost:8080/"
        },
        "id": "nFvftr5rVnlq",
        "outputId": "5d6477ed-1e2e-475a-a9d1-6d29bbf6bac5"
      },
      "outputs": [
        {
          "data": {
            "text/plain": [
              "Prediction(uid=5, iid=100, r_ui=None, est=5, details={'was_impossible': False})"
            ]
          },
          "execution_count": 14,
          "metadata": {},
          "output_type": "execute_result"
        }
      ],
      "source": [
        "user = 5\n",
        "item = 100\n",
        "svd.predict(user, item)\n"
      ]
    },
    {
      "cell_type": "code",
      "execution_count": null,
      "metadata": {
        "colab": {
          "base_uri": "https://localhost:8080/"
        },
        "id": "OdR27qOpVnlq",
        "outputId": "dd630f6e-7d3f-448a-9beb-9d481df21c5b"
      },
      "outputs": [
        {
          "name": "stderr",
          "output_type": "stream",
          "text": [
            "[Parallel(n_jobs=-1)]: Using backend LokyBackend with 2 concurrent workers.\n",
            "[Parallel(n_jobs=-1)]: Done  28 tasks      | elapsed:    7.1s\n"
          ]
        },
        {
          "name": "stdout",
          "output_type": "stream",
          "text": [
            "{'rmse': 2.1746149454635506, 'mae': 2.0218}\n",
            "{'rmse': {'n_factors': 20, 'reg_all': 0.02}, 'mae': {'n_factors': 20, 'reg_all': 0.02}}\n"
          ]
        },
        {
          "name": "stderr",
          "output_type": "stream",
          "text": [
            "[Parallel(n_jobs=-1)]: Done  45 out of  45 | elapsed:   11.9s finished\n"
          ]
        }
      ],
      "source": [
        "params = {'n_factors': [20,50,100],\n",
        "         'reg_all': [.02,.05, .10]}\n",
        "gridsearch_svd1 = GridSearchCV(SVD, param_grid=params, n_jobs=-1, joblib_verbose=3)\n",
        "gridsearch_svd1.fit(anime_loaded_data)\n",
        "\n",
        "print(gridsearch_svd1.best_score)\n",
        "print(gridsearch_svd1.best_params)"
      ]
    }
  ],
  "metadata": {
    "accelerator": "GPU",
    "colab": {
      "name": "SVD_CUDA.ipynb",
      "provenance": []
    },
    "interpreter": {
      "hash": "74b263846bdfc5184baaf49cda1f7237d71ae93e5818ed3b0d6049601b09e607"
    },
    "kernelspec": {
      "display_name": "Python 3.8.10 64-bit ('env': venv)",
      "language": "python",
      "name": "python3"
    },
    "language_info": {
      "codemirror_mode": {
        "name": "ipython",
        "version": 3
      },
      "file_extension": ".py",
      "mimetype": "text/x-python",
      "name": "python",
      "nbconvert_exporter": "python",
      "pygments_lexer": "ipython3",
      "version": "3.8.10"
    },
    "orig_nbformat": 4
  },
  "nbformat": 4,
  "nbformat_minor": 0
}
