{
  "cells": [
    {
      "cell_type": "code",
      "execution_count": null,
      "metadata": {
        "colab": {
          "base_uri": "https://localhost:8080/"
        },
        "id": "ON-K84BPmWRZ",
        "outputId": "52030c60-3a24-4cd2-8a0f-6e52141dafc5"
      },
      "outputs": [
        {
          "name": "stdout",
          "output_type": "stream",
          "text": [
            "Collecting cupy\n",
            "  Downloading cupy-9.6.0.tar.gz (1.6 MB)\n",
            "\u001b[K     |████████████████████████████████| 1.6 MB 5.2 MB/s \n",
            "\u001b[?25hRequirement already satisfied: numpy<1.24,>=1.17 in /usr/local/lib/python3.7/dist-packages (from cupy) (1.19.5)\n",
            "Requirement already satisfied: fastrlock>=0.5 in /usr/local/lib/python3.7/dist-packages (from cupy) (0.8)\n",
            "Building wheels for collected packages: cupy\n",
            "  Building wheel for cupy (setup.py) ... \u001b[?25l\u001b[?25hcanceled\n",
            "\u001b[31mERROR: Operation cancelled by user\u001b[0m\n"
          ]
        }
      ],
      "source": [
        "!pip3 install cupy"
      ]
    },
    {
      "cell_type": "code",
      "execution_count": 28,
      "metadata": {
        "id": "iqVZLOwnUT2H"
      },
      "outputs": [],
      "source": [
        "import pandas as pd\n",
        "import numpy as np\n",
        "import torch\n",
        "import json\n",
        "import itertools\n",
        "\n",
        "\n",
        "def load_recommender_data(path_in_str):\n",
        "    json_file = open(path_in_str)\n",
        "    data = json.load(json_file)\n",
        "    df = pd.DataFrame.from_dict(data, orient='index')\n",
        "    df = df[df['error'].isna()]\n",
        "\n",
        "    # %%\n",
        "    df['user'] = df.index\n",
        "    df.reset_index(inplace=True)\n",
        "    df['user_id'] = df.index\n",
        "\n",
        "    # %%\n",
        "    def melt_series(s):\n",
        "        lengths = s.str.len().values\n",
        "        flat = [i for i in itertools.chain.from_iterable(s.values.tolist())]\n",
        "        idx = np.repeat(s.index.values, lengths)\n",
        "        return pd.Series(flat, idx, name=s.name)\n",
        "\n",
        "\n",
        "    user_df = melt_series(df.data).to_frame().join(df.drop('data', 1))\n",
        "\n",
        "    # %%\n",
        "    user_df['anime_id'] = user_df['data'].apply(lambda x : x['node']['id'])\n",
        "    user_df['status'] = user_df['data'].apply(lambda x : x['list_status']['status'])\n",
        "    user_df['score'] = user_df['data'].apply(lambda x : x['list_status']['score'])\n",
        "    user_df['is_rewatching'] = user_df['data'].apply(lambda x : x['list_status']['is_rewatching'])\n",
        "\n",
        "\n",
        "    # %%\n",
        "    user_df = user_df[['user', 'user_id', 'anime_id', 'status', 'score', 'is_rewatching']]\n",
        "    user_df = user_df.rename({'score': 'user_score'}, axis=1)\n",
        "\n",
        "    # %%\n",
        "    path_in_str = '/content/data/anime_list_final_231.json'\n",
        "    json_file = open(path_in_str)\n",
        "    data = json.load(json_file)\n",
        "    anime_df_raw = pd.DataFrame.from_dict(data, orient='index')\n",
        "    anime_df_raw = anime_df_raw[anime_df_raw['error'] != 'not_found']\n",
        "    anime_df = anime_df_raw[['id', 'title', 'mean', 'genres', 'statistics', 'num_episodes']]\n",
        "    anime_df = anime_df.dropna()\n",
        "\n",
        "    # %%\n",
        "    anime_df['genres_name'] = anime_df['genres'].apply(lambda x : [a['name'] for a in x])\n",
        "    anime_df['genres_id'] = anime_df['genres'].apply(lambda x : [a['id'] for a in x])\n",
        "\n",
        "    # %%\n",
        "    anime_df['watching'] = anime_df['statistics'].apply(lambda x : x['status']['watching'])\n",
        "    anime_df['num_list_users'] = anime_df['statistics'].apply(lambda x : x['num_list_users'])\n",
        "    anime_df['completed'] = anime_df['statistics'].apply(lambda x : x['status']['completed'])\n",
        "    anime_df['plan_to_watch'] = anime_df['statistics'].apply(lambda x : x['status']['plan_to_watch'])\n",
        "    anime_df['dropped'] = anime_df['statistics'].apply(lambda x : x['status']['dropped'])\n",
        "    anime_df['on_hold'] = anime_df['statistics'].apply(lambda x : x['status']['on_hold'])\n",
        "\n",
        "    # %%\n",
        "    anime_df.drop(['genres', 'statistics'], axis=1, inplace=True)\n",
        "\n",
        "    # %%\n",
        "    anime_df.rename({'id': 'anime_id'}, axis=1, inplace=True)\n",
        "\n",
        "\n",
        "\n",
        "    # %%\n",
        "    df_merge_raw = pd.merge(anime_df, user_df, on = 'anime_id')\n",
        "\n",
        "    # %%\n",
        "    df_merge = df_merge_raw[['anime_id', 'title', 'genres_name', 'num_episodes', 'mean', 'num_list_users', 'user_id', 'user_score']]\n",
        "\n",
        "    # %%\n",
        "    df_merge.rename({'title': 'name', 'genres_name': 'genre', 'num_episodes': 'episodes', 'mean': 'rating_x', 'num_list_users': 'members', 'user_score': 'rating_y'}, axis=1, inplace= True)\n",
        "\n",
        "    # %%\n",
        "    df_merge['rating_x'] = df_merge['rating_x'].astype(int)\n",
        "    df_merge['rating_x'] = df_merge['rating_x'].round()\n",
        "\n",
        "    return df_merge, anime_df, user_df\n",
        "\n",
        "\n",
        "def main():\n",
        "    path_in_str = '/content/data/user_data.json'\n",
        "    load_recommender_data(path_in_str)\n"
      ]
    },
    {
      "cell_type": "markdown",
      "metadata": {},
      "source": [
        "## Load data"
      ]
    },
    {
      "cell_type": "code",
      "execution_count": null,
      "metadata": {
        "colab": {
          "base_uri": "https://localhost:8080/"
        },
        "id": "zL6wT10bMyLF",
        "outputId": "03c302e4-2012-4658-8f94-f143fd530979"
      },
      "outputs": [],
      "source": [
        "df_merge, anime_df, user_df =  load_recommender_data('data/user_data.json')"
      ]
    },
    {
      "cell_type": "markdown",
      "metadata": {},
      "source": [
        "## Data preprocessing"
      ]
    },
    {
      "cell_type": "code",
      "execution_count": null,
      "metadata": {
        "colab": {
          "base_uri": "https://localhost:8080/"
        },
        "id": "WCOwBestGPqj",
        "outputId": "62b33f8c-2a41-4e41-d7e8-24b2cd137742"
      },
      "outputs": [],
      "source": [
        "new_indices = range(len(anime_df.index))\n",
        "dict_ids = dict(zip(list(anime_df['anime_id']), new_indices))"
      ]
    },
    {
      "cell_type": "code",
      "execution_count": 31,
      "metadata": {
        "id": "Fck8MV3sM2R0"
      },
      "outputs": [],
      "source": [
        "anime_df.replace({'anime_id': dict_ids}, inplace=True)\n",
        "user_df.replace({'anime_id': dict_ids}, inplace=True)\n",
        "df_merge.replace({'anime_id': dict_ids}, inplace=True)"
      ]
    },
    {
      "cell_type": "code",
      "execution_count": null,
      "metadata": {
        "colab": {
          "base_uri": "https://localhost:8080/"
        },
        "id": "FtqwuZEaW7ik",
        "outputId": "139b0a49-eb9f-44bf-d936-a1fa755a3046"
      },
      "outputs": [],
      "source": [
        "df_merge.head()\n",
        "sample = df_merge.sample(n=10000)"
      ]
    },
    {
      "cell_type": "code",
      "execution_count": null,
      "metadata": {
        "colab": {
          "base_uri": "https://localhost:8080/"
        },
        "id": "ZCV_LB0nllr_",
        "outputId": "cfc4e5bb-59d4-496b-db4d-909917732e75"
      },
      "outputs": [],
      "source": [
        "df_merge['anime_id'] = df_merge['anime_id'].astype(np.int32)\n",
        "df_merge['rating_x'] = df_merge['rating_x'].astype(np.int32)\n",
        "df_merge['user_id'] = df_merge['user_id'].astype(np.int32)\n",
        "df_merge = df_merge[['anime_id', 'rating_x','user_id']]"
      ]
    },
    {
      "cell_type": "code",
      "execution_count": null,
      "metadata": {
        "colab": {
          "base_uri": "https://localhost:8080/",
          "height": 204
        },
        "id": "-t9N9qcaloqR",
        "outputId": "eba33be4-d3aa-4b34-def5-ecce6d8b58ee"
      },
      "outputs": [],
      "source": [
        "df_merge = df_merge.sample(n=5)"
      ]
    },
    {
      "cell_type": "markdown",
      "metadata": {},
      "source": [
        "## Create Required Matrices"
      ]
    },
    {
      "cell_type": "code",
      "execution_count": null,
      "metadata": {
        "colab": {
          "base_uri": "https://localhost:8080/"
        },
        "id": "CXBSL3tNlrq6",
        "outputId": "a0687e32-10ff-4afc-c952-3a0ca21d8729"
      },
      "outputs": [],
      "source": [
        "# rating matrix with rows as animes and columns as users\n",
        "matrix_rating_user = np.ndarray(\n",
        "    shape=(np.max(df_merge.anime_id.values), np.max(df_merge.user_id.values)+1),\n",
        "    dtype=np.uint8)\n",
        "matrix_rating_user"
      ]
    },
    {
      "cell_type": "code",
      "execution_count": null,
      "metadata": {
        "colab": {
          "base_uri": "https://localhost:8080/"
        },
        "id": "9tg8t1Gkl100",
        "outputId": "665f6984-76cb-4903-ba34-e78b859e898c"
      },
      "outputs": [],
      "source": [
        "matrix_rating_user[df_merge.anime_id.values-1, df_merge.user_id.values] = df_merge.rating_x.values\n",
        "matrix_rating_user"
      ]
    },
    {
      "cell_type": "code",
      "execution_count": null,
      "metadata": {
        "colab": {
          "base_uri": "https://localhost:8080/"
        },
        "id": "jkUkHx70l5iB",
        "outputId": "7296ba7f-fd5e-48c8-a3d1-bfdbf090380c"
      },
      "outputs": [],
      "source": [
        "matrix_norm = matrix_rating_user - np.asarray([(np.mean(matrix_rating_user, 1))]).T\n",
        "matrix_norm"
      ]
    },
    {
      "cell_type": "markdown",
      "metadata": {},
      "source": [
        "## Get SVD Decomposition"
      ]
    },
    {
      "cell_type": "code",
      "execution_count": 39,
      "metadata": {
        "id": "IZYN9R2QPGdm"
      },
      "outputs": [],
      "source": [
        "# Compute the Singular Value Decomposition (SVD).\n",
        "cuda  = torch.device('cuda')\n",
        "A = matrix_norm.T / np.sqrt(matrix_rating_user.shape[0] - 1)\n",
        "t = torch.from_numpy(A).to(device=cuda)     # converted to tensor\n",
        "U, S, Vt = torch.svd(t)\n",
        "V = Vt.cpu().detach().numpy()   #convert Vt to numpy array"
      ]
    },
    {
      "cell_type": "markdown",
      "metadata": {},
      "source": [
        "## Recommender helper functions"
      ]
    },
    {
      "cell_type": "code",
      "execution_count": 72,
      "metadata": {
        "id": "W93mLoskptEU"
      },
      "outputs": [],
      "source": [
        "def cosine_similarity_sort(r_data, anime_id, top_n=10):\n",
        "    ind = anime_id -1\n",
        "    anime_row = r_data[ind, :]\n",
        "    magnitude = np.sqrt(np.einsum('ij, ij -> i', r_data, r_data))\n",
        "    matrix_similarity = np.dot(anime_row, r_data.T) / (magnitude[ind] * magnitude)\n",
        "    sorted_indices = np.argsort(-matrix_similarity)\n",
        "    return sorted_indices[:top_n]"
      ]
    },
    {
      "cell_type": "code",
      "execution_count": 73,
      "metadata": {
        "id": "0Tm1scC7pwP5"
      },
      "outputs": [],
      "source": [
        "def get_most_similar_anime(anime_df, anime_id, index_list):\n",
        "    print('Best recommendations for {}:'.format(anime_df[anime_df.anime_id == anime_id].title.values[0]))\n",
        "    count = 1\n",
        "    for id in index_list + 1:\n",
        "        print('{0}: {1}'.format(count, anime_df[anime_df.anime_id == id].title.values[0]))\n",
        "        count = count +1"
      ]
    },
    {
      "cell_type": "code",
      "execution_count": 74,
      "metadata": {
        "id": "q3t9BXacctiK"
      },
      "outputs": [],
      "source": [
        "def get_anime_id(anime_df, fav_anime):\n",
        "    anime_id = anime_df.loc[anime_df['title'] == fav_anime, 'anime_id'].iloc[0]\n",
        "    anime_id = int(anime_id)\n",
        "    return anime_id"
      ]
    },
    {
      "cell_type": "code",
      "execution_count": 75,
      "metadata": {
        "id": "qRKNntmGbEvW"
      },
      "outputs": [],
      "source": [
        "def make_recommendation(anime_name, top_n=10):\n",
        "    anime_id = get_anime_id(anime_df, anime_name) # get anime id\n",
        "    k = 50      #k-principal components to represent anime, anime_id to find recommendations\n",
        "    rep_data = V.T[:, :k] # representative data\n",
        "    index_list = cosine_similarity_sort(rep_data, anime_id, top_n)\n",
        "\n",
        "    #Get the top N recommendations\n",
        "    get_most_similar_anime(anime_df, anime_id, index_list)"
      ]
    },
    {
      "cell_type": "code",
      "execution_count": null,
      "metadata": {},
      "outputs": [],
      "source": [
        "## Make recommendations\n",
        "Enter your anime name and the numbre of recommendations needed in top_n field, and the recommender will generate recommendations"
      ]
    },
    {
      "cell_type": "code",
      "execution_count": 76,
      "metadata": {
        "colab": {
          "base_uri": "https://localhost:8080/"
        },
        "id": "dbVlUI33pzzD",
        "outputId": "7fd412ce-8e1c-4b1f-c866-b6fc944973ad"
      },
      "outputs": [
        {
          "name": "stdout",
          "output_type": "stream",
          "text": [
            "Best recommendations for Cowboy Bebop:\n",
            "1: Initial D First Stage\n",
            "2: Trigun\n",
            "3: El Hazard: The Alternative World\n",
            "4: Mobile Suit Gundam SEED\n",
            "5: Beck\n",
            "6: Saiyuuki Reload Gunlock\n",
            "7: Yakitate!! Japan\n",
            "8: Hunter x Hunter: Greed Island Final\n",
            "9: Pita Ten\n",
            "10: Green Green\n"
          ]
        }
      ],
      "source": [
        "anime_name = 'Cowboy Bebop'\n",
        "top_n = 10\n",
        "\n",
        "make_recommendation(anime_name, top_n)"
      ]
    }
  ],
  "metadata": {
    "accelerator": "GPU",
    "colab": {
      "collapsed_sections": [],
      "name": "SVD_recommender.ipynb",
      "provenance": []
    },
    "interpreter": {
      "hash": "74b263846bdfc5184baaf49cda1f7237d71ae93e5818ed3b0d6049601b09e607"
    },
    "kernelspec": {
      "display_name": "Python 3.8.10 64-bit ('env': venv)",
      "language": "python",
      "name": "python3"
    },
    "language_info": {
      "codemirror_mode": {
        "name": "ipython",
        "version": 3
      },
      "file_extension": ".py",
      "mimetype": "text/x-python",
      "name": "python",
      "nbconvert_exporter": "python",
      "pygments_lexer": "ipython3",
      "version": "3.8.10"
    },
    "orig_nbformat": 4
  },
  "nbformat": 4,
  "nbformat_minor": 0
}
