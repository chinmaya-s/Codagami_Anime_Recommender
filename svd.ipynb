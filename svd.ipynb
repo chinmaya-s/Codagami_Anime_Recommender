{
 "cells": [
  {
   "cell_type": "code",
   "execution_count": 1,
   "metadata": {},
   "outputs": [
    {
     "name": "stderr",
     "output_type": "stream",
     "text": [
      "/home/dipesh/repositories/Codagami_Anime_Recommender/load_recommender_data.py:27: FutureWarning: In a future version of pandas all arguments of DataFrame.drop except for the argument 'labels' will be keyword-only\n",
      "  user_df = melt_series(df.data).to_frame().join(df.drop('data', 1))\n",
      "/home/dipesh/repositories/Codagami_Anime_Recommender/env/lib/python3.8/site-packages/pandas/core/frame.py:5039: SettingWithCopyWarning: \n",
      "A value is trying to be set on a copy of a slice from a DataFrame\n",
      "\n",
      "See the caveats in the documentation: https://pandas.pydata.org/pandas-docs/stable/user_guide/indexing.html#returning-a-view-versus-a-copy\n",
      "  return super().rename(\n",
      "/home/dipesh/repositories/Codagami_Anime_Recommender/load_recommender_data.py:79: SettingWithCopyWarning: \n",
      "A value is trying to be set on a copy of a slice from a DataFrame.\n",
      "Try using .loc[row_indexer,col_indexer] = value instead\n",
      "\n",
      "See the caveats in the documentation: https://pandas.pydata.org/pandas-docs/stable/user_guide/indexing.html#returning-a-view-versus-a-copy\n",
      "  df_merge['rating_x'] = df_merge['rating_x'].astype(int)\n",
      "/home/dipesh/repositories/Codagami_Anime_Recommender/load_recommender_data.py:80: SettingWithCopyWarning: \n",
      "A value is trying to be set on a copy of a slice from a DataFrame.\n",
      "Try using .loc[row_indexer,col_indexer] = value instead\n",
      "\n",
      "See the caveats in the documentation: https://pandas.pydata.org/pandas-docs/stable/user_guide/indexing.html#returning-a-view-versus-a-copy\n",
      "  df_merge['rating_x'] = df_merge['rating_x'].round()\n"
     ]
    },
    {
     "data": {
      "text/plain": [
       "(5000, 8)"
      ]
     },
     "execution_count": 1,
     "metadata": {},
     "output_type": "execute_result"
    }
   ],
   "source": [
    "from load_recommender_data import load_recommender_data\n",
    "\n",
    "df_merge, anime_df, user_df =  load_recommender_data('user_data1.0.json')\n",
    "\n",
    "sample = df_merge.sample(n=5000)\n",
    "sample.shape\n"
   ]
  },
  {
   "cell_type": "code",
   "execution_count": 2,
   "metadata": {},
   "outputs": [
    {
     "data": {
      "text/plain": [
       "anime_id    float64\n",
       "name         object\n",
       "genre        object\n",
       "episodes    float64\n",
       "rating_x      int64\n",
       "members       int64\n",
       "user_id       int64\n",
       "rating_y      int64\n",
       "dtype: object"
      ]
     },
     "execution_count": 2,
     "metadata": {},
     "output_type": "execute_result"
    }
   ],
   "source": [
    "sample.dtypes"
   ]
  },
  {
   "cell_type": "code",
   "execution_count": 3,
   "metadata": {},
   "outputs": [
    {
     "data": {
      "text/html": [
       "<div>\n",
       "<style scoped>\n",
       "    .dataframe tbody tr th:only-of-type {\n",
       "        vertical-align: middle;\n",
       "    }\n",
       "\n",
       "    .dataframe tbody tr th {\n",
       "        vertical-align: top;\n",
       "    }\n",
       "\n",
       "    .dataframe thead th {\n",
       "        text-align: right;\n",
       "    }\n",
       "</style>\n",
       "<table border=\"1\" class=\"dataframe\">\n",
       "  <thead>\n",
       "    <tr style=\"text-align: right;\">\n",
       "      <th></th>\n",
       "      <th>anime_id</th>\n",
       "      <th>name</th>\n",
       "      <th>genre</th>\n",
       "      <th>episodes</th>\n",
       "      <th>rating_x</th>\n",
       "      <th>members</th>\n",
       "      <th>user_id</th>\n",
       "      <th>rating_y</th>\n",
       "    </tr>\n",
       "  </thead>\n",
       "  <tbody>\n",
       "    <tr>\n",
       "      <th>30083</th>\n",
       "      <td>8425.0</td>\n",
       "      <td>Gosick</td>\n",
       "      <td>[Drama, Historical, Mystery, Romance]</td>\n",
       "      <td>24.0</td>\n",
       "      <td>8</td>\n",
       "      <td>472247</td>\n",
       "      <td>49</td>\n",
       "      <td>0</td>\n",
       "    </tr>\n",
       "    <tr>\n",
       "      <th>39459</th>\n",
       "      <td>32093.0</td>\n",
       "      <td>Tanaka-kun wa Itsumo Kedaruge</td>\n",
       "      <td>[Comedy, School, Slice of Life]</td>\n",
       "      <td>12.0</td>\n",
       "      <td>7</td>\n",
       "      <td>377418</td>\n",
       "      <td>89</td>\n",
       "      <td>7</td>\n",
       "    </tr>\n",
       "    <tr>\n",
       "      <th>48192</th>\n",
       "      <td>40936.0</td>\n",
       "      <td>Ore wo Suki nano wa Omae dake ka yo: Oretachi ...</td>\n",
       "      <td>[Comedy, Romance, School]</td>\n",
       "      <td>1.0</td>\n",
       "      <td>7</td>\n",
       "      <td>94064</td>\n",
       "      <td>94</td>\n",
       "      <td>7</td>\n",
       "    </tr>\n",
       "    <tr>\n",
       "      <th>37256</th>\n",
       "      <td>28207.0</td>\n",
       "      <td>Ketsuekigata-kun! 2</td>\n",
       "      <td>[Comedy]</td>\n",
       "      <td>12.0</td>\n",
       "      <td>6</td>\n",
       "      <td>4451</td>\n",
       "      <td>36</td>\n",
       "      <td>7</td>\n",
       "    </tr>\n",
       "    <tr>\n",
       "      <th>20694</th>\n",
       "      <td>38740.0</td>\n",
       "      <td>Bai She: Yuan Qi</td>\n",
       "      <td>[Adventure, Demons, Drama, Fantasy, Historical...</td>\n",
       "      <td>1.0</td>\n",
       "      <td>7</td>\n",
       "      <td>5346</td>\n",
       "      <td>7</td>\n",
       "      <td>8</td>\n",
       "    </tr>\n",
       "  </tbody>\n",
       "</table>\n",
       "</div>"
      ],
      "text/plain": [
       "       anime_id                                               name  \\\n",
       "30083    8425.0                                             Gosick   \n",
       "39459   32093.0                      Tanaka-kun wa Itsumo Kedaruge   \n",
       "48192   40936.0  Ore wo Suki nano wa Omae dake ka yo: Oretachi ...   \n",
       "37256   28207.0                                Ketsuekigata-kun! 2   \n",
       "20694   38740.0                                   Bai She: Yuan Qi   \n",
       "\n",
       "                                                   genre  episodes  rating_x  \\\n",
       "30083              [Drama, Historical, Mystery, Romance]      24.0         8   \n",
       "39459                    [Comedy, School, Slice of Life]      12.0         7   \n",
       "48192                          [Comedy, Romance, School]       1.0         7   \n",
       "37256                                           [Comedy]      12.0         6   \n",
       "20694  [Adventure, Demons, Drama, Fantasy, Historical...       1.0         7   \n",
       "\n",
       "       members  user_id  rating_y  \n",
       "30083   472247       49         0  \n",
       "39459   377418       89         7  \n",
       "48192    94064       94         7  \n",
       "37256     4451       36         7  \n",
       "20694     5346        7         8  "
      ]
     },
     "execution_count": 3,
     "metadata": {},
     "output_type": "execute_result"
    }
   ],
   "source": [
    "sample.head()"
   ]
  },
  {
   "cell_type": "code",
   "execution_count": 4,
   "metadata": {},
   "outputs": [],
   "source": [
    "from scipy.sparse import csc_matrix\n",
    "from scipy.sparse.linalg import svds \n",
    "\n",
    "from surprise.model_selection import train_test_split\n",
    "from surprise.model_selection import GridSearchCV\n",
    "from surprise.model_selection import cross_validate\n",
    "\n",
    "from surprise.prediction_algorithms import KNNWithMeans, KNNBasic, KNNBaseline\n",
    "\n",
    "from surprise.prediction_algorithms import knns\n",
    "from surprise.prediction_algorithms import SVD\n",
    "\n",
    "from surprise.similarities import cosine, msd, pearson\n",
    "\n",
    "from surprise import accuracy \n",
    "from surprise import Reader\n",
    "from surprise import Dataset\n",
    "from surprise import dataset\n",
    "\n",
    "data = sample[['user_id', 'anime_id', 'rating_x']]\n",
    "reader = Reader(line_format='user item rating', sep='')\n",
    "anime_loaded_data = Dataset.load_from_df(data, reader)\n",
    "\n",
    "#train_test_split\n",
    "trainset, testset = train_test_split(anime_loaded_data, test_size=.2)"
   ]
  },
  {
   "cell_type": "code",
   "execution_count": 5,
   "metadata": {},
   "outputs": [
    {
     "data": {
      "text/plain": [
       "<surprise.prediction_algorithms.matrix_factorization.SVD at 0x7efcb1d6dd30>"
      ]
     },
     "execution_count": 5,
     "metadata": {},
     "output_type": "execute_result"
    }
   ],
   "source": [
    "svd = SVD()\n",
    "svd.fit(trainset)"
   ]
  },
  {
   "cell_type": "code",
   "execution_count": 6,
   "metadata": {},
   "outputs": [
    {
     "name": "stdout",
     "output_type": "stream",
     "text": [
      "RMSE: 2.2093\n"
     ]
    },
    {
     "data": {
      "text/plain": [
       "2.209298531208492"
      ]
     },
     "execution_count": 6,
     "metadata": {},
     "output_type": "execute_result"
    }
   ],
   "source": [
    "predictions = svd.test(testset) #\n",
    "accuracy.rmse(predictions)\n"
   ]
  },
  {
   "cell_type": "code",
   "execution_count": 7,
   "metadata": {},
   "outputs": [
    {
     "data": {
      "text/plain": [
       "[Prediction(uid=66, iid=13629.0, r_ui=7.0, est=5, details={'was_impossible': False}),\n",
       " Prediction(uid=27, iid=9488.0, r_ui=7.0, est=5, details={'was_impossible': False}),\n",
       " Prediction(uid=62, iid=16035.0, r_ui=7.0, est=5, details={'was_impossible': False}),\n",
       " Prediction(uid=82, iid=27525.0, r_ui=7.0, est=5, details={'was_impossible': False}),\n",
       " Prediction(uid=13, iid=24415.0, r_ui=8.0, est=5, details={'was_impossible': False}),\n",
       " Prediction(uid=38, iid=37999.0, r_ui=8.0, est=5, details={'was_impossible': False}),\n",
       " Prediction(uid=68, iid=12031.0, r_ui=8.0, est=5, details={'was_impossible': False}),\n",
       " Prediction(uid=31, iid=31580.0, r_ui=7.0, est=5, details={'was_impossible': False}),\n",
       " Prediction(uid=33, iid=30364.0, r_ui=7.0, est=5, details={'was_impossible': False}),\n",
       " Prediction(uid=32, iid=42938.0, r_ui=9.0, est=5, details={'was_impossible': False})]"
      ]
     },
     "execution_count": 7,
     "metadata": {},
     "output_type": "execute_result"
    }
   ],
   "source": [
    "predictions[:10]\n"
   ]
  },
  {
   "cell_type": "code",
   "execution_count": 9,
   "metadata": {},
   "outputs": [
    {
     "name": "stdout",
     "output_type": "stream",
     "text": [
      "Number of users: 94\n"
     ]
    }
   ],
   "source": [
    "print(\"Number of users:\", sample.user_id.nunique())\n"
   ]
  },
  {
   "cell_type": "code",
   "execution_count": 10,
   "metadata": {},
   "outputs": [
    {
     "data": {
      "text/plain": [
       "Prediction(uid=5, iid=100, r_ui=None, est=5, details={'was_impossible': False})"
      ]
     },
     "execution_count": 10,
     "metadata": {},
     "output_type": "execute_result"
    }
   ],
   "source": [
    "user = 5\n",
    "item = 100\n",
    "svd.predict(user, item)\n"
   ]
  },
  {
   "cell_type": "code",
   "execution_count": 11,
   "metadata": {},
   "outputs": [
    {
     "name": "stderr",
     "output_type": "stream",
     "text": [
      "[Parallel(n_jobs=-1)]: Using backend LokyBackend with 8 concurrent workers.\n",
      "[Parallel(n_jobs=-1)]: Done  16 tasks      | elapsed:    1.1s\n"
     ]
    },
    {
     "name": "stdout",
     "output_type": "stream",
     "text": [
      "{'rmse': 2.1925590335512815, 'mae': 2.0444000000000004}\n",
      "{'rmse': {'n_factors': 20, 'reg_all': 0.02}, 'mae': {'n_factors': 20, 'reg_all': 0.02}}\n"
     ]
    },
    {
     "name": "stderr",
     "output_type": "stream",
     "text": [
      "[Parallel(n_jobs=-1)]: Done  45 out of  45 | elapsed:    2.5s finished\n"
     ]
    }
   ],
   "source": [
    "params = {'n_factors': [20,50,100],\n",
    "         'reg_all': [.02,.05, .10]}\n",
    "gridsearch_svd1 = GridSearchCV(SVD, param_grid=params, n_jobs=-1, joblib_verbose=3)\n",
    "gridsearch_svd1.fit(anime_loaded_data)\n",
    "\n",
    "print(gridsearch_svd1.best_score)\n",
    "print(gridsearch_svd1.best_params)"
   ]
  },
  {
   "cell_type": "code",
   "execution_count": null,
   "metadata": {},
   "outputs": [],
   "source": []
  }
 ],
 "metadata": {
  "interpreter": {
   "hash": "74b263846bdfc5184baaf49cda1f7237d71ae93e5818ed3b0d6049601b09e607"
  },
  "kernelspec": {
   "display_name": "Python 3.8.10 64-bit ('env': venv)",
   "language": "python",
   "name": "python3"
  },
  "language_info": {
   "codemirror_mode": {
    "name": "ipython",
    "version": 3
   },
   "file_extension": ".py",
   "mimetype": "text/x-python",
   "name": "python",
   "nbconvert_exporter": "python",
   "pygments_lexer": "ipython3",
   "version": "3.8.10"
  },
  "orig_nbformat": 4
 },
 "nbformat": 4,
 "nbformat_minor": 2
}
