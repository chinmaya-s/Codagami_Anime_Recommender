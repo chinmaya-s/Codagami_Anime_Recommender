{
  "nbformat": 4,
  "nbformat_minor": 0,
  "metadata": {
    "interpreter": {
      "hash": "74b263846bdfc5184baaf49cda1f7237d71ae93e5818ed3b0d6049601b09e607"
    },
    "kernelspec": {
      "display_name": "Python 3.8.10 64-bit ('env': venv)",
      "language": "python",
      "name": "python3"
    },
    "language_info": {
      "codemirror_mode": {
        "name": "ipython",
        "version": 3
      },
      "file_extension": ".py",
      "mimetype": "text/x-python",
      "name": "python",
      "nbconvert_exporter": "python",
      "pygments_lexer": "ipython3",
      "version": "3.8.10"
    },
    "orig_nbformat": 4,
    "colab": {
      "name": "SVD_1_CUDA.ipynb",
      "provenance": []
    },
    "accelerator": "GPU"
  },
  "cells": [
    {
      "cell_type": "code",
      "metadata": {
        "colab": {
          "base_uri": "https://localhost:8080/"
        },
        "id": "ON-K84BPmWRZ",
        "outputId": "6abef166-4027-4944-8b5e-fa3f0a928399"
      },
      "source": [
        "!pip3 install cupy"
      ],
      "execution_count": 7,
      "outputs": [
        {
          "output_type": "stream",
          "name": "stdout",
          "text": [
            "Collecting cupy\n",
            "  Using cached cupy-9.6.0.tar.gz (1.6 MB)\n",
            "Requirement already satisfied: numpy<1.24,>=1.17 in /usr/local/lib/python3.7/dist-packages (from cupy) (1.19.5)\n",
            "Requirement already satisfied: fastrlock>=0.5 in /usr/local/lib/python3.7/dist-packages (from cupy) (0.8)\n",
            "Building wheels for collected packages: cupy\n",
            "  Building wheel for cupy (setup.py) ... \u001b[?25l\u001b[?25hcanceled\n",
            "\u001b[31mERROR: Operation cancelled by user\u001b[0m\n"
          ]
        }
      ]
    },
    {
      "cell_type": "code",
      "metadata": {
        "id": "qV5at3Kojf4b"
      },
      "source": [
        "import pandas as pd\n",
        "import numpy as np\n",
        "import torch\n",
        "import json\n",
        "import itertools\n",
        "\n",
        "\n",
        "def load_recommender_data(path_in_str):\n",
        "    json_file = open(path_in_str)\n",
        "    data = json.load(json_file)\n",
        "    df = pd.DataFrame.from_dict(data, orient='index')\n",
        "    df = df[df['error'].isna()]\n",
        "\n",
        "    # %%\n",
        "    df['user'] = df.index\n",
        "    df.reset_index(inplace=True)\n",
        "    df['user_id'] = df.index\n",
        "\n",
        "    # %%\n",
        "    def melt_series(s):\n",
        "        lengths = s.str.len().values\n",
        "        flat = [i for i in itertools.chain.from_iterable(s.values.tolist())]\n",
        "        idx = np.repeat(s.index.values, lengths)\n",
        "        return pd.Series(flat, idx, name=s.name)\n",
        "\n",
        "\n",
        "    user_df = melt_series(df.data).to_frame().join(df.drop('data', 1))\n",
        "\n",
        "    # %%\n",
        "    user_df['anime_id'] = user_df['data'].apply(lambda x : x['node']['id'])\n",
        "    user_df['status'] = user_df['data'].apply(lambda x : x['list_status']['status'])\n",
        "    user_df['score'] = user_df['data'].apply(lambda x : x['list_status']['score'])\n",
        "    user_df['is_rewatching'] = user_df['data'].apply(lambda x : x['list_status']['is_rewatching'])\n",
        "\n",
        "\n",
        "    # %%\n",
        "    user_df = user_df[['user', 'user_id', 'anime_id', 'status', 'score', 'is_rewatching']]\n",
        "    user_df = user_df.rename({'score': 'user_score'}, axis=1)\n",
        "\n",
        "    # %%\n",
        "    path_in_str = '/content/data/anime_list_final_231.json'\n",
        "    json_file = open(path_in_str)\n",
        "    data = json.load(json_file)\n",
        "    anime_df_raw = pd.DataFrame.from_dict(data, orient='index')\n",
        "    anime_df_raw = anime_df_raw[anime_df_raw['error'] != 'not_found']\n",
        "    anime_df = anime_df_raw[['id', 'title', 'mean', 'genres', 'statistics', 'num_episodes']]\n",
        "    anime_df = anime_df.dropna()\n",
        "\n",
        "    # %%\n",
        "    anime_df['genres_name'] = anime_df['genres'].apply(lambda x : [a['name'] for a in x])\n",
        "    anime_df['genres_id'] = anime_df['genres'].apply(lambda x : [a['id'] for a in x])\n",
        "\n",
        "    # %%\n",
        "    anime_df['watching'] = anime_df['statistics'].apply(lambda x : x['status']['watching'])\n",
        "    anime_df['num_list_users'] = anime_df['statistics'].apply(lambda x : x['num_list_users'])\n",
        "    anime_df['completed'] = anime_df['statistics'].apply(lambda x : x['status']['completed'])\n",
        "    anime_df['plan_to_watch'] = anime_df['statistics'].apply(lambda x : x['status']['plan_to_watch'])\n",
        "    anime_df['dropped'] = anime_df['statistics'].apply(lambda x : x['status']['dropped'])\n",
        "    anime_df['on_hold'] = anime_df['statistics'].apply(lambda x : x['status']['on_hold'])\n",
        "\n",
        "    # %%\n",
        "    anime_df.drop(['genres', 'statistics'], axis=1, inplace=True)\n",
        "\n",
        "    # %%\n",
        "    anime_df.rename({'id': 'anime_id'}, axis=1, inplace=True)\n",
        "\n",
        "\n",
        "\n",
        "    # %%\n",
        "    df_merge_raw = pd.merge(anime_df, user_df, on = 'anime_id')\n",
        "\n",
        "    # %%\n",
        "    df_merge = df_merge_raw[['anime_id', 'title', 'genres_name', 'num_episodes', 'mean', 'num_list_users', 'user_id', 'user_score']]\n",
        "\n",
        "    # %%\n",
        "    df_merge.rename({'title': 'name', 'genres_name': 'genre', 'num_episodes': 'episodes', 'mean': 'rating_x', 'num_list_users': 'members', 'user_score': 'rating_y'}, axis=1, inplace= True)\n",
        "\n",
        "    # %%\n",
        "    df_merge['rating_x'] = df_merge['rating_x'].astype(int)\n",
        "    df_merge['rating_x'] = df_merge['rating_x'].round()\n",
        "\n",
        "    return df_merge, anime_df, user_df\n",
        "\n",
        "\n",
        "def main():\n",
        "    path_in_str = '/content/user_data1.0.json'\n",
        "    load_recommender_data(path_in_str)\n"
      ],
      "execution_count": 4,
      "outputs": []
    },
    {
      "cell_type": "code",
      "metadata": {
        "colab": {
          "base_uri": "https://localhost:8080/"
        },
        "id": "FtqwuZEaW7ik",
        "outputId": "ded91ee4-d537-4acc-f8c2-47810444e6e5"
      },
      "source": [
        "df_merge, anime_df, user_df =  load_recommender_data('user_data1.0.json')\n",
        "df_merge.head()\n",
        "sample = df_merge.sample(n=10000)\n",
        "sample.shape"
      ],
      "execution_count": 12,
      "outputs": [
        {
          "output_type": "stream",
          "name": "stderr",
          "text": [
            "/usr/local/lib/python3.7/dist-packages/pandas/core/frame.py:4308: SettingWithCopyWarning: \n",
            "A value is trying to be set on a copy of a slice from a DataFrame\n",
            "\n",
            "See the caveats in the documentation: https://pandas.pydata.org/pandas-docs/stable/user_guide/indexing.html#returning-a-view-versus-a-copy\n",
            "  errors=errors,\n",
            "/usr/local/lib/python3.7/dist-packages/ipykernel_launcher.py:79: SettingWithCopyWarning: \n",
            "A value is trying to be set on a copy of a slice from a DataFrame.\n",
            "Try using .loc[row_indexer,col_indexer] = value instead\n",
            "\n",
            "See the caveats in the documentation: https://pandas.pydata.org/pandas-docs/stable/user_guide/indexing.html#returning-a-view-versus-a-copy\n",
            "/usr/local/lib/python3.7/dist-packages/ipykernel_launcher.py:80: SettingWithCopyWarning: \n",
            "A value is trying to be set on a copy of a slice from a DataFrame.\n",
            "Try using .loc[row_indexer,col_indexer] = value instead\n",
            "\n",
            "See the caveats in the documentation: https://pandas.pydata.org/pandas-docs/stable/user_guide/indexing.html#returning-a-view-versus-a-copy\n"
          ]
        },
        {
          "output_type": "execute_result",
          "data": {
            "text/plain": [
              "(10000, 8)"
            ]
          },
          "metadata": {},
          "execution_count": 12
        }
      ]
    },
    {
      "cell_type": "code",
      "metadata": {
        "colab": {
          "base_uri": "https://localhost:8080/"
        },
        "id": "dHE8SEMaliLA",
        "outputId": "3f4e7075-9e1c-4cf3-df73-dd7514cb0519"
      },
      "source": [
        "df_merge.dtypes"
      ],
      "execution_count": 13,
      "outputs": [
        {
          "output_type": "execute_result",
          "data": {
            "text/plain": [
              "anime_id    float64\n",
              "name         object\n",
              "genre        object\n",
              "episodes    float64\n",
              "rating_x      int64\n",
              "members       int64\n",
              "user_id       int64\n",
              "rating_y      int64\n",
              "dtype: object"
            ]
          },
          "metadata": {},
          "execution_count": 13
        }
      ]
    },
    {
      "cell_type": "code",
      "metadata": {
        "colab": {
          "base_uri": "https://localhost:8080/"
        },
        "id": "ZCV_LB0nllr_",
        "outputId": "68b314bb-b03b-4dea-8a0c-6ad1e3be293f"
      },
      "source": [
        "df_merge['anime_id'] = df_merge['anime_id'].astype(np.int32)\n",
        "df_merge['rating_x'] = df_merge['rating_x'].astype(np.int32)\n",
        "df_merge['user_id'] = df_merge['user_id'].astype(np.int32)\n",
        "df_merge = df_merge[['anime_id', 'rating_x','user_id']]\n",
        "df_merge.dtypes"
      ],
      "execution_count": 14,
      "outputs": [
        {
          "output_type": "execute_result",
          "data": {
            "text/plain": [
              "anime_id    int32\n",
              "rating_x    int32\n",
              "user_id     int32\n",
              "dtype: object"
            ]
          },
          "metadata": {},
          "execution_count": 14
        }
      ]
    },
    {
      "cell_type": "code",
      "metadata": {
        "colab": {
          "base_uri": "https://localhost:8080/",
          "height": 204
        },
        "id": "-t9N9qcaloqR",
        "outputId": "6a5be6b1-a444-4775-a9f4-cb522b35dcae"
      },
      "source": [
        "df_merge = df_merge.sample(n=5)\n",
        "df_merge"
      ],
      "execution_count": 15,
      "outputs": [
        {
          "output_type": "execute_result",
          "data": {
            "text/html": [
              "<div>\n",
              "<style scoped>\n",
              "    .dataframe tbody tr th:only-of-type {\n",
              "        vertical-align: middle;\n",
              "    }\n",
              "\n",
              "    .dataframe tbody tr th {\n",
              "        vertical-align: top;\n",
              "    }\n",
              "\n",
              "    .dataframe thead th {\n",
              "        text-align: right;\n",
              "    }\n",
              "</style>\n",
              "<table border=\"1\" class=\"dataframe\">\n",
              "  <thead>\n",
              "    <tr style=\"text-align: right;\">\n",
              "      <th></th>\n",
              "      <th>anime_id</th>\n",
              "      <th>rating_x</th>\n",
              "      <th>user_id</th>\n",
              "    </tr>\n",
              "  </thead>\n",
              "  <tbody>\n",
              "    <tr>\n",
              "      <th>4128</th>\n",
              "      <td>3297</td>\n",
              "      <td>8</td>\n",
              "      <td>39</td>\n",
              "    </tr>\n",
              "    <tr>\n",
              "      <th>43797</th>\n",
              "      <td>37210</td>\n",
              "      <td>6</td>\n",
              "      <td>34</td>\n",
              "    </tr>\n",
              "    <tr>\n",
              "      <th>26784</th>\n",
              "      <td>1573</td>\n",
              "      <td>6</td>\n",
              "      <td>40</td>\n",
              "    </tr>\n",
              "    <tr>\n",
              "      <th>28075</th>\n",
              "      <td>3655</td>\n",
              "      <td>7</td>\n",
              "      <td>68</td>\n",
              "    </tr>\n",
              "    <tr>\n",
              "      <th>23941</th>\n",
              "      <td>46420</td>\n",
              "      <td>7</td>\n",
              "      <td>44</td>\n",
              "    </tr>\n",
              "  </tbody>\n",
              "</table>\n",
              "</div>"
            ],
            "text/plain": [
              "       anime_id  rating_x  user_id\n",
              "4128       3297         8       39\n",
              "43797     37210         6       34\n",
              "26784      1573         6       40\n",
              "28075      3655         7       68\n",
              "23941     46420         7       44"
            ]
          },
          "metadata": {},
          "execution_count": 15
        }
      ]
    },
    {
      "cell_type": "code",
      "metadata": {
        "colab": {
          "base_uri": "https://localhost:8080/"
        },
        "id": "CXBSL3tNlrq6",
        "outputId": "bcb56ad2-c797-4ec4-c8e6-008c001cc6f4"
      },
      "source": [
        "ratings_mat = np.ndarray(\n",
        "    shape=(np.max(df_merge.anime_id.values), np.max(df_merge.user_id.values)+1),\n",
        "    dtype=np.uint8)\n",
        "ratings_mat"
      ],
      "execution_count": 16,
      "outputs": [
        {
          "output_type": "execute_result",
          "data": {
            "text/plain": [
              "array([[  0,   0,   0, ...,   0,   0,   0],\n",
              "       [  0,  58,  64, ...,  64,   0,   0],\n",
              "       [  0,   0,   0, ...,   0,  64,  81],\n",
              "       ...,\n",
              "       [127,   0,   0, ...,   0,  48, 199],\n",
              "       [131,  67,   7, ...,   7, 127,   0],\n",
              "       [  0,  32,  93, ...,  83, 130,  67]], dtype=uint8)"
            ]
          },
          "metadata": {},
          "execution_count": 16
        }
      ]
    },
    {
      "cell_type": "code",
      "metadata": {
        "colab": {
          "base_uri": "https://localhost:8080/"
        },
        "id": "9tg8t1Gkl100",
        "outputId": "ff14819a-17a4-4af5-d7d6-8c50e0122a0b"
      },
      "source": [
        "ratings_mat[df_merge.anime_id.values-1, df_merge.user_id.values] = df_merge.rating_x.values\n",
        "ratings_mat"
      ],
      "execution_count": 17,
      "outputs": [
        {
          "output_type": "execute_result",
          "data": {
            "text/plain": [
              "array([[  0,   0,   0, ...,   0,   0,   0],\n",
              "       [  0,  58,  64, ...,  64,   0,   0],\n",
              "       [  0,   0,   0, ...,   0,  64,  81],\n",
              "       ...,\n",
              "       [127,   0,   0, ...,   0,  48, 199],\n",
              "       [131,  67,   7, ...,   7, 127,   0],\n",
              "       [  0,  32,  93, ...,  83, 130,  67]], dtype=uint8)"
            ]
          },
          "metadata": {},
          "execution_count": 17
        }
      ]
    },
    {
      "cell_type": "code",
      "metadata": {
        "colab": {
          "base_uri": "https://localhost:8080/"
        },
        "id": "jkUkHx70l5iB",
        "outputId": "3cc2554d-d98b-4bde-ba7d-cc2ff1bb6daa"
      },
      "source": [
        "normalised_mat = ratings_mat - np.asarray([(np.mean(ratings_mat, 1))]).T\n",
        "normalised_mat"
      ],
      "execution_count": 18,
      "outputs": [
        {
          "output_type": "execute_result",
          "data": {
            "text/plain": [
              "array([[-15.46376812, -15.46376812, -15.46376812, ..., -15.46376812,\n",
              "        -15.46376812, -15.46376812],\n",
              "       [-26.30434783,  31.69565217,  37.69565217, ...,  37.69565217,\n",
              "        -26.30434783, -26.30434783],\n",
              "       [-33.33333333, -33.33333333, -33.33333333, ..., -33.33333333,\n",
              "         30.66666667,  47.66666667],\n",
              "       ...,\n",
              "       [ 54.42028986, -72.57971014, -72.57971014, ..., -72.57971014,\n",
              "        -24.57971014, 126.42028986],\n",
              "       [ 60.20289855,  -3.79710145, -63.79710145, ..., -63.79710145,\n",
              "         56.20289855, -70.79710145],\n",
              "       [-58.23188406, -26.23188406,  34.76811594, ...,  24.76811594,\n",
              "         71.76811594,   8.76811594]])"
            ]
          },
          "metadata": {},
          "execution_count": 18
        }
      ]
    },
    {
      "cell_type": "code",
      "metadata": {
        "id": "IZYN9R2QPGdm"
      },
      "source": [
        "cuda  = torch.device('cuda')\n",
        "A = normalised_mat.T / np.sqrt(ratings_mat.shape[0] - 1)\n",
        "t = torch.from_numpy(A).to(device=cuda) # converted to tensor\n",
        "U, S, Vt = torch.svd(t)\n",
        "#convert Vt to numpy array\n",
        "V = Vt.cpu().detach().numpy()"
      ],
      "execution_count": 19,
      "outputs": []
    },
    {
      "cell_type": "code",
      "metadata": {
        "colab": {
          "base_uri": "https://localhost:8080/"
        },
        "id": "ZPTJEoiwp7T6",
        "outputId": "0bdaf1a0-7a8b-410a-bcf2-9ac78cc63b23"
      },
      "source": [
        "V"
      ],
      "execution_count": 21,
      "outputs": [
        {
          "output_type": "execute_result",
          "data": {
            "text/plain": [
              "array([[-1.04219483e-03, -5.14701179e-03,  3.34457355e-03, ...,\n",
              "        -7.80519301e-05, -3.39384317e-03, -7.09223406e-02],\n",
              "       [-6.42086092e-03,  4.37885329e-03,  2.32905084e-05, ...,\n",
              "        -5.88521365e-04, -1.69649250e-03, -4.31833183e-01],\n",
              "       [ 9.51498218e-03,  2.67743577e-03, -5.62241410e-03, ...,\n",
              "        -1.07577208e-03,  1.61065594e-03, -1.86363493e-01],\n",
              "       ...,\n",
              "       [ 8.01653178e-03, -4.06049904e-03, -1.16704843e-02, ...,\n",
              "         3.08556749e-03,  2.44187318e-03,  1.09683676e-02],\n",
              "       [-7.60380817e-03, -3.37293162e-03, -5.20888016e-03, ...,\n",
              "         1.29549396e-03, -1.45965998e-03,  5.13638586e-03],\n",
              "       [ 4.52890799e-03,  4.42942849e-03,  3.83361538e-03, ...,\n",
              "         9.64266386e-03,  3.07187952e-03, -4.07923035e-03]])"
            ]
          },
          "metadata": {},
          "execution_count": 21
        }
      ]
    },
    {
      "cell_type": "code",
      "metadata": {
        "id": "W93mLoskptEU"
      },
      "source": [
        "def top_cosine_similarity(data, anime_id, top_n=10):\n",
        "    index = anime_id - 1 # Movie id starts from 1 in the dataset\n",
        "    movie_row = data[index, :]\n",
        "    magnitude = np.sqrt(np.einsum('ij, ij -> i', data, data))\n",
        "    similarity = np.dot(movie_row, data.T) / (magnitude[index] * magnitude)\n",
        "    sort_indexes = np.argsort(-similarity)\n",
        "    return sort_indexes[:top_n]"
      ],
      "execution_count": 54,
      "outputs": []
    },
    {
      "cell_type": "code",
      "metadata": {
        "id": "0Tm1scC7pwP5"
      },
      "source": [
        "def print_similar_movies(anime_df, anime_id, top_indexes):\n",
        "    print('Recommendations for {0}: \\n'.format(\n",
        "    anime_df[anime_df.anime_id == anime_id].title))\n",
        "    for id in top_indexes + 1:\n",
        "        print(anime_df[anime_df.anime_id == id].title.values)"
      ],
      "execution_count": 55,
      "outputs": []
    },
    {
      "cell_type": "code",
      "metadata": {
        "colab": {
          "base_uri": "https://localhost:8080/"
        },
        "id": "dbVlUI33pzzD",
        "outputId": "281cd808-423f-499f-f46d-ee7612bed5fc"
      },
      "source": [
        "k = 50\n",
        "anime_id = 6 # (getting an id from movies.dat)\n",
        "top_n = 10\n",
        "sliced = V.T[:, :k] # representative data\n",
        "indexes = top_cosine_similarity(sliced, anime_id, top_n)\n",
        "\n",
        "#Printing the top N similar movies\n",
        "print_similar_movies(anime_df, anime_id, indexes)"
      ],
      "execution_count": 56,
      "outputs": [
        {
          "output_type": "stream",
          "name": "stdout",
          "text": [
            "Recommendations for 6    Trigun\n",
            "Name: title, dtype: object: \n",
            "\n",
            "['Trigun']\n",
            "['Sunabouzu']\n",
            "['Akira']\n",
            "[]\n",
            "['Rozen Maiden: Träumend']\n",
            "['Blue Gender']\n",
            "[]\n",
            "['Yakitate!! Japan']\n",
            "[]\n",
            "['Ai Yori Aoshi']\n"
          ]
        }
      ]
    }
  ]
}